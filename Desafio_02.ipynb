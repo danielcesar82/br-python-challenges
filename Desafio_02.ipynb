{
  "nbformat": 4,
  "nbformat_minor": 0,
  "metadata": {
    "anaconda-cloud": {},
    "colab": {
      "name": "Desafio 2.ipynb",
      "provenance": [],
      "include_colab_link": true
    },
    "kernelspec": {
      "display_name": "Python 3",
      "language": "python",
      "name": "python3"
    },
    "language_info": {
      "codemirror_mode": {
        "name": "ipython",
        "version": 3
      },
      "file_extension": ".py",
      "mimetype": "text/x-python",
      "name": "python",
      "nbconvert_exporter": "python",
      "pygments_lexer": "ipython3",
      "version": "3.7.9"
    }
  },
  "cells": [
    {
      "cell_type": "markdown",
      "metadata": {
        "id": "view-in-github",
        "colab_type": "text"
      },
      "source": [
        "<a href=\"https://colab.research.google.com/github/danielcesar82/br-python-challenges/blob/master/Desafio_02.ipynb\" target=\"_parent\"><img src=\"https://colab.research.google.com/assets/colab-badge.svg\" alt=\"Open In Colab\"/></a>"
      ]
    },
    {
      "cell_type": "markdown",
      "metadata": {
        "id": "C2WMhNmmbVMH"
      },
      "source": [
        "![](https://i.imgur.com/YX6UATs.png)"
      ]
    },
    {
      "cell_type": "markdown",
      "metadata": {
        "id": "q1NCks7Af6JN"
      },
      "source": [
        "### Desafio 2\n",
        "\n",
        "Escreva uma função que receba um número inteiro de horas e converta esse número para segundos.\n",
        "\n",
        "Exemplo:\n",
        "\n",
        "convert(5) ➞ 18000\n",
        "\n",
        "convert(3) ➞ 10800\n",
        "\n",
        "convert(2) ➞ 7200"
      ]
    },
    {
      "cell_type": "code",
      "metadata": {
        "id": "sSm6F7sff6JO"
      },
      "source": [
        "def convert_to_sec(number):\n",
        "    print(f'{number * 3600}')"
      ],
      "execution_count": 1,
      "outputs": []
    },
    {
      "cell_type": "code",
      "metadata": {
        "id": "VYugocoib6y9",
        "outputId": "f75fa3b1-b450-482e-f255-ef6d35f86c41",
        "colab": {
          "base_uri": "https://localhost:8080/"
        }
      },
      "source": [
        "#Testando a função de conversão\n",
        "convert_to_sec(5)\n",
        "convert_to_sec(3)\n",
        "convert_to_sec(2)\n",
        "\n",
        "#Conversão com número aleatório\n",
        "from random import randint\n",
        "horas = randint(1, 100)\n",
        "print(f'Horas: {horas}')\n",
        "convert_to_sec(horas)\n"
      ],
      "execution_count": 12,
      "outputs": [
        {
          "output_type": "stream",
          "name": "stdout",
          "text": [
            "18000\n",
            "10800\n",
            "7200\n",
            "Horas: 8\n",
            "28800\n"
          ]
        }
      ]
    }
  ]
}