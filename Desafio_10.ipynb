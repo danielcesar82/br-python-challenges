{
  "nbformat": 4,
  "nbformat_minor": 0,
  "metadata": {
    "anaconda-cloud": {},
    "colab": {
      "name": "Desafio 10.ipynb",
      "provenance": [],
      "include_colab_link": true
    },
    "kernelspec": {
      "display_name": "Python 3",
      "language": "python",
      "name": "python3"
    },
    "language_info": {
      "codemirror_mode": {
        "name": "ipython",
        "version": 3
      },
      "file_extension": ".py",
      "mimetype": "text/x-python",
      "name": "python",
      "nbconvert_exporter": "python",
      "pygments_lexer": "ipython3",
      "version": "3.7.9"
    }
  },
  "cells": [
    {
      "cell_type": "markdown",
      "metadata": {
        "id": "view-in-github",
        "colab_type": "text"
      },
      "source": [
        "<a href=\"https://colab.research.google.com/github/danielcesar82/br-python-challenges/blob/master/Desafio_10.ipynb\" target=\"_parent\"><img src=\"https://colab.research.google.com/assets/colab-badge.svg\" alt=\"Open In Colab\"/></a>"
      ]
    },
    {
      "cell_type": "markdown",
      "metadata": {
        "id": "a4-FLDRof6Jv"
      },
      "source": [
        "### Desafio 10\n",
        "\n",
        "Dada uma lista, divida-a em 3 partes iguais e reverta a ordem de cada lista.\n",
        "\n",
        "**Exemplo:** \n",
        "\n",
        "Entrada: \\\n",
        "sampleList = [11, 45, 8, 23, 14, 12, 78, 45, 89]\n",
        "\n",
        "Saída: \\\n",
        "Parte 1 [8, 45, 11] \\\n",
        "Parte 2 [12, 14, 23] \\\n",
        "Parte 3 [89, 45, 78] "
      ]
    },
    {
      "cell_type": "code",
      "metadata": {
        "id": "IJ70pUjnf6Jw"
      },
      "source": [
        "def divide_inverte_lista(listaf):\n",
        "  if len(listaf) % 3 == 0:\n",
        "    lista1 = listaf[0:len(listaf)//3]\n",
        "    lista2 = listaf[len(listaf) // 3 : 2 * (len(listaf) // 3)]\n",
        "    lista3 = listaf[2 * len(listaf) // 3 : 3 * (len(listaf) // 3)]\n",
        "    return lista1[::-1], lista2[::-1], lista3[::-1] \n",
        "  else:\n",
        "    print('A lista fornecida não poder ser dividida em três partes iguais.')\n",
        "  "
      ],
      "execution_count": 16,
      "outputs": []
    },
    {
      "cell_type": "code",
      "metadata": {
        "colab": {
          "base_uri": "https://localhost:8080/"
        },
        "id": "pNrXNVqf8Wc1",
        "outputId": "1fe5711f-4dbb-41e1-ca2a-652a5f624d46"
      },
      "source": [
        "sampleList = [11, 45, 8, 23, 14, 12, 78, 45, 89]\n",
        "lista1, lista2, lista3 = divide_inverte_lista(sampleList)\n",
        "print(lista1, lista2, lista3)"
      ],
      "execution_count": 12,
      "outputs": [
        {
          "output_type": "stream",
          "name": "stdout",
          "text": [
            "[8, 45, 11] [12, 14, 23] [89, 45, 78]\n"
          ]
        }
      ]
    },
    {
      "cell_type": "code",
      "metadata": {
        "id": "I4Ilo74wcXZp",
        "outputId": "c33c94e8-3a03-4c3f-8267-2e35a6c69a71",
        "colab": {
          "base_uri": "https://localhost:8080/"
        }
      },
      "source": [
        "# teste\n",
        "divide_inverte_lista([0, 2])"
      ],
      "execution_count": 15,
      "outputs": [
        {
          "output_type": "stream",
          "name": "stdout",
          "text": [
            "A lista fornecida nãp poder ser dividida em três partes iguais.\n"
          ]
        }
      ]
    },
    {
      "cell_type": "code",
      "metadata": {
        "id": "oBqiSROlc697",
        "outputId": "52f05f60-b46f-4804-8f6a-4b8616cb7b6c",
        "colab": {
          "base_uri": "https://localhost:8080/"
        }
      },
      "source": [
        "divide_inverte_lista([0, 3, 5])"
      ],
      "execution_count": 17,
      "outputs": [
        {
          "output_type": "execute_result",
          "data": {
            "text/plain": [
              "([0], [3], [5])"
            ]
          },
          "metadata": {},
          "execution_count": 17
        }
      ]
    },
    {
      "cell_type": "code",
      "metadata": {
        "id": "RUvPelqCdBER",
        "outputId": "8a7071a1-b763-4842-f173-f96589049b0a",
        "colab": {
          "base_uri": "https://localhost:8080/"
        }
      },
      "source": [
        "divide_inverte_lista([9, 3, 5, 78, 90, 23])"
      ],
      "execution_count": 18,
      "outputs": [
        {
          "output_type": "execute_result",
          "data": {
            "text/plain": [
              "([3, 9], [78, 5], [23, 90])"
            ]
          },
          "metadata": {},
          "execution_count": 18
        }
      ]
    }
  ]
}