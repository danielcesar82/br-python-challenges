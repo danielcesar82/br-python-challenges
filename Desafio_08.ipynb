{
  "nbformat": 4,
  "nbformat_minor": 0,
  "metadata": {
    "anaconda-cloud": {},
    "colab": {
      "name": "Desafio 8.ipynb",
      "provenance": [],
      "include_colab_link": true
    },
    "kernelspec": {
      "display_name": "Python 3",
      "language": "python",
      "name": "python3"
    },
    "language_info": {
      "codemirror_mode": {
        "name": "ipython",
        "version": 3
      },
      "file_extension": ".py",
      "mimetype": "text/x-python",
      "name": "python",
      "nbconvert_exporter": "python",
      "pygments_lexer": "ipython3",
      "version": "3.7.9"
    }
  },
  "cells": [
    {
      "cell_type": "markdown",
      "metadata": {
        "id": "view-in-github",
        "colab_type": "text"
      },
      "source": [
        "<a href=\"https://colab.research.google.com/github/danielcesar82/br-python-challenges/blob/master/Desafio_08.ipynb\" target=\"_parent\"><img src=\"https://colab.research.google.com/assets/colab-badge.svg\" alt=\"Open In Colab\"/></a>"
      ]
    },
    {
      "cell_type": "markdown",
      "metadata": {
        "id": "o3tkeMDNf6Jo"
      },
      "source": [
        "### Desafio 8\n",
        "\n",
        "Escreva um script Python para encontrar as 10 palavras mais longas em um arquivo de texto.\n",
        "O arquivo .txt está localizado na mesma pasta do projeto (**texto.txt**)."
      ]
    },
    {
      "cell_type": "code",
      "metadata": {
        "id": "EknxjSG0f6Jo"
      },
      "source": [
        "# Leitura do arquivo txt\n",
        "with open('texto.txt', 'r') as arquivo:\n",
        "  linhas  = arquivo.readlines()\n",
        "\n",
        "lista_palavras= []\n",
        "# Separa as frases de cada frase encontrada.\n",
        "for frases in linhas:\n",
        "  frases = frases.split('.')\n",
        "  # Separa as palavras de cada frase.\n",
        "  for palavras in frases:\n",
        "    palavras = palavras.split()\n",
        "    for palavra in palavras:\n",
        "      palavra = palavra.replace('.', ' ').replace(',', ' ').replace('(', ' ').replace(')', ' ').replace(\"'\", ' ').replace('?', ' ')\n",
        "      palavra = palavra.strip()  \n",
        "      lista_palavras.append(palavra)\n",
        "\n",
        "# Encontrando as 10 maiores palavras\n",
        "maiores_palavras = lista_palavras\n",
        "while len(maiores_palavras) > 10:\n",
        "  min = 99999999\n",
        "  for palavra in maiores_palavras:\n",
        "    if len(palavra) < min:\n",
        "      min = len(palavra)\n",
        "      palavra_excluida = palavra\n",
        "  maiores_palavras.remove(palavra)\n",
        "\n",
        "\n",
        "  \n",
        "\n",
        "      \n",
        "\n",
        "  "
      ],
      "execution_count": 64,
      "outputs": []
    },
    {
      "cell_type": "code",
      "metadata": {
        "id": "vFm8YB_3EgW7",
        "outputId": "b9adbd57-b923-4418-f0ab-004a7a304665",
        "colab": {
          "base_uri": "https://localhost:8080/"
        }
      },
      "source": [
        "maiores_palavras"
      ],
      "execution_count": 65,
      "outputs": [
        {
          "output_type": "execute_result",
          "data": {
            "text/plain": [
              "['What',\n",
              " 'language',\n",
              " 'widely',\n",
              " 'used',\n",
              " 'high-level',\n",
              " 'general-purpose',\n",
              " 'interpreted',\n",
              " 'language',\n",
              " 'Its',\n",
              " 'design']"
            ]
          },
          "metadata": {},
          "execution_count": 65
        }
      ]
    }
  ]
}