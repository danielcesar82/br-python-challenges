{
  "nbformat": 4,
  "nbformat_minor": 0,
  "metadata": {
    "anaconda-cloud": {},
    "colab": {
      "name": "Desafio 12.ipynb",
      "provenance": [],
      "include_colab_link": true
    },
    "kernelspec": {
      "display_name": "Python 3",
      "language": "python",
      "name": "python3"
    },
    "language_info": {
      "codemirror_mode": {
        "name": "ipython",
        "version": 3
      },
      "file_extension": ".py",
      "mimetype": "text/x-python",
      "name": "python",
      "nbconvert_exporter": "python",
      "pygments_lexer": "ipython3",
      "version": "3.7.9"
    }
  },
  "cells": [
    {
      "cell_type": "markdown",
      "metadata": {
        "id": "view-in-github",
        "colab_type": "text"
      },
      "source": [
        "<a href=\"https://colab.research.google.com/github/danielcesar82/br-python-challenges/blob/master/Desafio_12.ipynb\" target=\"_parent\"><img src=\"https://colab.research.google.com/assets/colab-badge.svg\" alt=\"Open In Colab\"/></a>"
      ]
    },
    {
      "cell_type": "markdown",
      "metadata": {
        "id": "AYHY2YXQf6J2"
      },
      "source": [
        "### Desafio 12\n",
        "\n",
        "Escreva uma função em Python para verificar a validade de uma senha.\n",
        "\n",
        "A senha deve ter:\n",
        "\n",
        "* Pelo menos 1 letra entre [a-z] e 1 letra entre [A-Z].\n",
        "* Pelo menos 1 número entre [0-9].\n",
        "* Pelo menos 1 caractere de [$ # @].\n",
        "* Comprimento mínimo de 6 caracteres.\n",
        "* Comprimento máximo de 16 caracteres.\n",
        "\n",
        "Entradas: \"12345678\", \"J3sus0\", \"#Te5t300\", \"J*90j12374\", \"Michheeul\", \"Monk3y6\"\n",
        "\n",
        "A saída deve ser a senha e um texto indicando se a senha é válida ou inválida:\n",
        "\n",
        "```\n",
        "\"1234\" - Senha inválida\n",
        "\"Qw#1234\" - Senha válida\n",
        "```"
      ]
    },
    {
      "cell_type": "code",
      "metadata": {
        "id": "UGgtGYGGf6J3"
      },
      "source": [
        "def valida_senha(senhaf):\n",
        "  minuscula = 0\n",
        "  maiuscula = 0\n",
        "  numero = 0\n",
        "  char_especial = 0\n",
        "  if 6 <= len(senhaf) <= 16:\n",
        "    for dig in senhaf:\n",
        "      if ord(dig) == 35 or ord(dig) == 36 or ord(dig) == 64:\n",
        "        char_especial += 1\n",
        "      elif 48 <= ord(dig) <= 57:\n",
        "        numero += 1\n",
        "      elif 65 <= ord(dig) <= 90:\n",
        "        maiuscula += 1\n",
        "      elif 97 <= ord(dig) <= 122:\n",
        "        minuscula += 1\n",
        "  print(maiuscula, minuscula, char_especial, numero)\n",
        "  if maiuscula > 0 and minuscula > 0 and numero > 0 and char_especial > 0:\n",
        "    return \"Senha válida\"\n",
        "  else:\n",
        "    return \"Senha inválida\"\n",
        "        \n"
      ],
      "execution_count": 39,
      "outputs": []
    },
    {
      "cell_type": "code",
      "metadata": {
        "id": "nESt24oAmc18",
        "outputId": "cbedfd10-6989-4604-e94e-371416731413",
        "colab": {
          "base_uri": "https://localhost:8080/"
        }
      },
      "source": [
        "# teste\n",
        "lista_senhas = [\"12345678\", \"J3sus0\", \"#Te5t300\", \"J*90j12374\", \"Michheeul\", \"Monk3y6\", \"Qw#1234\"]\n",
        "for senha in lista_senhas:\n",
        "  print(f'\"{senha}\" : {valida_senha(senha)}')"
      ],
      "execution_count": 40,
      "outputs": [
        {
          "output_type": "stream",
          "name": "stdout",
          "text": [
            "0 0 0 8\n",
            "\"12345678\" : Senha inválida\n",
            "1 3 0 2\n",
            "\"J3sus0\" : Senha inválida\n",
            "1 2 1 4\n",
            "\"#Te5t300\" : Senha válida\n",
            "1 1 0 7\n",
            "\"J*90j12374\" : Senha inválida\n",
            "1 8 0 0\n",
            "\"Michheeul\" : Senha inválida\n",
            "1 4 0 2\n",
            "\"Monk3y6\" : Senha inválida\n",
            "1 1 1 4\n",
            "\"Qw#1234\" : Senha válida\n"
          ]
        }
      ]
    }
  ]
}